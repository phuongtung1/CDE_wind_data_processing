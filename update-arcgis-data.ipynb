{
 "cells": [
  {
   "cell_type": "code",
   "execution_count": 1,
   "metadata": {},
   "outputs": [
    {
     "name": "stdout",
     "output_type": "stream",
     "text": [
      "GIS @ https://nuscde.maps.arcgis.com version:10.2\n"
     ]
    }
   ],
   "source": [
    "from arcgis.gis import GIS\n",
    "from arcgis import features\n",
    "import pandas as pd\n",
    "from arcgis.features import FeatureLayerCollection\n",
    "from ARCGIS_PASSWORD import USERNAME, PASSWORD, ARCGIS_URL\n",
    "\n",
    "gis = GIS(ARCGIS_URL, USERNAME, PASSWORD)\n",
    "print(gis)\n",
    "\n"
   ]
  },
  {
   "cell_type": "code",
   "execution_count": 13,
   "metadata": {},
   "outputs": [
    {
     "data": {
      "text/html": [
       "<div>\n",
       "<style scoped>\n",
       "    .dataframe tbody tr th:only-of-type {\n",
       "        vertical-align: middle;\n",
       "    }\n",
       "\n",
       "    .dataframe tbody tr th {\n",
       "        vertical-align: top;\n",
       "    }\n",
       "\n",
       "    .dataframe thead th {\n",
       "        text-align: right;\n",
       "    }\n",
       "</style>\n",
       "<table border=\"1\" class=\"dataframe\">\n",
       "  <thead>\n",
       "    <tr style=\"text-align: right;\">\n",
       "      <th></th>\n",
       "      <th>Station</th>\n",
       "      <th>Serial number</th>\n",
       "      <th>Latitude</th>\n",
       "      <th>Longitude</th>\n",
       "      <th>Floor</th>\n",
       "      <th>Height</th>\n",
       "      <th>Location description</th>\n",
       "      <th>Building name</th>\n",
       "      <th>Timestamp</th>\n",
       "      <th>Wind Speed</th>\n",
       "      <th>Temperature PT100</th>\n",
       "      <th>Relative Humidity</th>\n",
       "      <th>Solar Radiation</th>\n",
       "      <th>PM1.0</th>\n",
       "      <th>PM2.5</th>\n",
       "      <th>PM10</th>\n",
       "    </tr>\n",
       "  </thead>\n",
       "  <tbody>\n",
       "    <tr>\n",
       "      <th>0</th>\n",
       "      <td>#1</td>\n",
       "      <td>21004880</td>\n",
       "      <td>1.277144</td>\n",
       "      <td>103.838944</td>\n",
       "      <td>Ground</td>\n",
       "      <td>2.5m</td>\n",
       "      <td>lamppost 7/4, between BLK 3 and Blk 7 in Evert...</td>\n",
       "      <td>Everton park</td>\n",
       "      <td>2022/10/19 13:00:00</td>\n",
       "      <td>0.728571</td>\n",
       "      <td>30.628571</td>\n",
       "      <td>65.542857</td>\n",
       "      <td>583.571429</td>\n",
       "      <td>8.771429</td>\n",
       "      <td>11.842857</td>\n",
       "      <td>14.828571</td>\n",
       "    </tr>\n",
       "    <tr>\n",
       "      <th>1</th>\n",
       "      <td>#1</td>\n",
       "      <td>21004880</td>\n",
       "      <td>1.277144</td>\n",
       "      <td>103.838944</td>\n",
       "      <td>Ground</td>\n",
       "      <td>2.5m</td>\n",
       "      <td>lamppost 7/4, between BLK 3 and Blk 7 in Evert...</td>\n",
       "      <td>Everton park</td>\n",
       "      <td>2022/10/19 14:00:00</td>\n",
       "      <td>0.876667</td>\n",
       "      <td>31.906667</td>\n",
       "      <td>60.890000</td>\n",
       "      <td>409.833333</td>\n",
       "      <td>11.263333</td>\n",
       "      <td>16.170000</td>\n",
       "      <td>21.790000</td>\n",
       "    </tr>\n",
       "    <tr>\n",
       "      <th>2</th>\n",
       "      <td>#1</td>\n",
       "      <td>21004880</td>\n",
       "      <td>1.277144</td>\n",
       "      <td>103.838944</td>\n",
       "      <td>Ground</td>\n",
       "      <td>2.5m</td>\n",
       "      <td>lamppost 7/4, between BLK 3 and Blk 7 in Evert...</td>\n",
       "      <td>Everton park</td>\n",
       "      <td>2022/10/19 15:00:00</td>\n",
       "      <td>0.720000</td>\n",
       "      <td>31.033333</td>\n",
       "      <td>60.863333</td>\n",
       "      <td>113.900000</td>\n",
       "      <td>9.090000</td>\n",
       "      <td>12.590000</td>\n",
       "      <td>16.093333</td>\n",
       "    </tr>\n",
       "    <tr>\n",
       "      <th>3</th>\n",
       "      <td>#1</td>\n",
       "      <td>21004880</td>\n",
       "      <td>1.277144</td>\n",
       "      <td>103.838944</td>\n",
       "      <td>Ground</td>\n",
       "      <td>2.5m</td>\n",
       "      <td>lamppost 7/4, between BLK 3 and Blk 7 in Evert...</td>\n",
       "      <td>Everton park</td>\n",
       "      <td>2022/10/19 16:00:00</td>\n",
       "      <td>0.583333</td>\n",
       "      <td>30.686667</td>\n",
       "      <td>61.226667</td>\n",
       "      <td>34.833333</td>\n",
       "      <td>11.363333</td>\n",
       "      <td>16.690000</td>\n",
       "      <td>22.816667</td>\n",
       "    </tr>\n",
       "    <tr>\n",
       "      <th>4</th>\n",
       "      <td>#1</td>\n",
       "      <td>21004880</td>\n",
       "      <td>1.277144</td>\n",
       "      <td>103.838944</td>\n",
       "      <td>Ground</td>\n",
       "      <td>2.5m</td>\n",
       "      <td>lamppost 7/4, between BLK 3 and Blk 7 in Evert...</td>\n",
       "      <td>Everton park</td>\n",
       "      <td>2022/10/19 17:00:00</td>\n",
       "      <td>0.713333</td>\n",
       "      <td>30.170000</td>\n",
       "      <td>61.310000</td>\n",
       "      <td>8.366667</td>\n",
       "      <td>9.656667</td>\n",
       "      <td>13.646667</td>\n",
       "      <td>18.810000</td>\n",
       "    </tr>\n",
       "  </tbody>\n",
       "</table>\n",
       "</div>"
      ],
      "text/plain": [
       "  Station  Serial number  Latitude   Longitude   Floor Height   \\\n",
       "0      #1       21004880  1.277144  103.838944  Ground    2.5m   \n",
       "1      #1       21004880  1.277144  103.838944  Ground    2.5m   \n",
       "2      #1       21004880  1.277144  103.838944  Ground    2.5m   \n",
       "3      #1       21004880  1.277144  103.838944  Ground    2.5m   \n",
       "4      #1       21004880  1.277144  103.838944  Ground    2.5m   \n",
       "\n",
       "                                Location description Building name  \\\n",
       "0  lamppost 7/4, between BLK 3 and Blk 7 in Evert...  Everton park   \n",
       "1  lamppost 7/4, between BLK 3 and Blk 7 in Evert...  Everton park   \n",
       "2  lamppost 7/4, between BLK 3 and Blk 7 in Evert...  Everton park   \n",
       "3  lamppost 7/4, between BLK 3 and Blk 7 in Evert...  Everton park   \n",
       "4  lamppost 7/4, between BLK 3 and Blk 7 in Evert...  Everton park   \n",
       "\n",
       "             Timestamp  Wind Speed  Temperature PT100  Relative Humidity  \\\n",
       "0  2022/10/19 13:00:00    0.728571          30.628571          65.542857   \n",
       "1  2022/10/19 14:00:00    0.876667          31.906667          60.890000   \n",
       "2  2022/10/19 15:00:00    0.720000          31.033333          60.863333   \n",
       "3  2022/10/19 16:00:00    0.583333          30.686667          61.226667   \n",
       "4  2022/10/19 17:00:00    0.713333          30.170000          61.310000   \n",
       "\n",
       "   Solar Radiation      PM1.0      PM2.5       PM10  \n",
       "0       583.571429   8.771429  11.842857  14.828571  \n",
       "1       409.833333  11.263333  16.170000  21.790000  \n",
       "2       113.900000   9.090000  12.590000  16.093333  \n",
       "3        34.833333  11.363333  16.690000  22.816667  \n",
       "4         8.366667   9.656667  13.646667  18.810000  "
      ]
     },
     "execution_count": 13,
     "metadata": {},
     "output_type": "execute_result"
    }
   ],
   "source": [
    "csv_source = 'processed_data/interval_1hour_All.csv'\n",
    "csv_data = pd.read_csv(csv_source)\n",
    "csv_data.head()\n"
   ]
  },
  {
   "cell_type": "code",
   "execution_count": 14,
   "metadata": {},
   "outputs": [
    {
     "data": {
      "text/plain": [
       "[<Item title:\"interval_1hour_All\" type:Feature Collection owner:nuscde_bdpt>,\n",
       " <Item title:\"Station Data\" type:Web Map owner:nuscde_bdpt>,\n",
       " <Item title:\"1hour interval csv data\" type:CSV owner:nuscde_bdpt>,\n",
       " <Item title:\"Station 1hr data dashboard\" type:Dashboard owner:nuscde_bdpt>]"
      ]
     },
     "execution_count": 14,
     "metadata": {},
     "output_type": "execute_result"
    }
   ],
   "source": [
    "ArcGIS_content_search = gis.content.search('owner:' + USERNAME)\n",
    "ArcGIS_content_search"
   ]
  },
  {
   "cell_type": "code",
   "execution_count": 15,
   "metadata": {},
   "outputs": [
    {
     "data": {
      "text/html": [
       "<div class=\"item_container\" style=\"height: auto; overflow: hidden; border: 1px solid #cfcfcf; border-radius: 2px; background: #f6fafa; line-height: 1.21429em; padding: 10px;\">\n",
       "                    <div class=\"item_left\" style=\"width: 210px; float: left;\">\n",
       "                       <a href='https://nuscde.maps.arcgis.com/home/item.html?id=814b7970ce5b4d438594361855a8b63e' target='_blank'>\n",
       "                        <img src='data:image/png;base64,iVBORw0KGgoAAAANSUhEUgAAAMgAAACFCAYAAAAenrcsAAADdElEQVR4Xu3X3WvWZRzHcf+kjjoM6qCig8AosgIpAhnROoqYBNrDLMweDoQwu7ttdbBYQokOzcqmqT34vMpZQ7ecKcLmFrnaqvFNJljc0IcGO2j3Xq+TH7/vdXEd/d5c972igH+1onUA/E0gEAgEAoFAIBAIBAKBQCAQCAQCgUAgEAgEAoFAIBAIBAKBQCAQCAQCgUAgEAgEAoFAIBAIBAKBQCAQCAQCgUAgEAgEAoFAIBAIBAKBQCAQCAQCgUAgEAgEAoFAIBAIBAKBQCAQCAQCgUAgEAgEAoFAIBAIBAKBQCAQCAQCgUAgEAgEAoFAIBAIBAKBQCAQCAQCgUAgEAgEAoFAIBAIBAKBQCAQCAQCgUAgEAgEAoFAIBAIBAKBQCAQCAQCgUAgLNiV8fN1cv/TNT15qqampmp2drZ1S9sQCAt25mBH1blb6tKxe2tX9z31+bau1i1tQyDL3K8//1Jnj327oFtg+Oim+mP4tjr18aO1+9m7qv/5u2tycrJ1W1sQyDK34+EN1X/n2jre3DX/Pjc9Xecbjbp85EiNDY3U8Fena7S/v46uW1cTY2Pzey5eOle9ux6pd3Y+VJ+9sbEG93/4zyPbikCWue0PdFf/HWvro2ea8+8/9vbWxMqVNfjYE3Vg087a8Fx3/bRq1fxsYsuW6vv6u+r64MXqPXxzfflmT02/NFTDvUdbTm0fAlnmXnt1R23q3F6Pv3z9Fhg7dGg+iFNPddV7LzRr/fr1ta+zs0ZWr64LBw/W7Y29dVNzoDbvXl0/vH64ftt45trzi5ZT24dAlrm9339TK3vfqs0De27Mfr/2M+vPa/9JhoaGauvWrTUwMFAzMzPza83BC3Vr34nqGxypK5cnanzf9We7Egg3Pv7/am5urnXUtgTCohq/OF5Xp662jpcsgbBoTh44Uc37G7Wto7ngW+n/SiAsmgPvflrN+xrVfLBRo6OjrctLkkBYNO9/0lE9rzxZPW+vaV1asgTCohk6O1B7jq+p0+f6W5eWLIFAIBAIBAKBQCAQCAQCgUAgEAgEAoFAIBAIBAKBQCAQCAQCgUAgEAgEAoFAIBAIBAKBQCAQCAQCgUAgEAgEAoFAIBAIBAKBQCAQCAQCgUAgEAgEAoFAIBAIBAKBQCAQCAQCgUAgEAgEAoFAIBAIBAKBQCAQCAQCgeAvA3q/xZfa6Z4AAAAASUVORK5CYII=' width='200' height='133' class=\"itemThumbnail\">\n",
       "                       </a>\n",
       "                    </div>\n",
       "\n",
       "                    <div class=\"item_right\"     style=\"float: none; width: auto; overflow: hidden;\">\n",
       "                        <a href='https://nuscde.maps.arcgis.com/home/item.html?id=814b7970ce5b4d438594361855a8b63e' target='_blank'><b>interval_1hour_All</b>\n",
       "                        </a>\n",
       "                        <br/>1_hour<img src='https://nuscde.maps.arcgis.com/home/js/jsapi/esri/css/images/item_type_icons/features16.png' style=\"vertical-align:middle;\">Feature Collection by nuscde_bdpt\n",
       "                        <br/>Last Modified: October 26, 2022\n",
       "                        <br/>0 comments, 19 views\n",
       "                    </div>\n",
       "                </div>\n",
       "                "
      ],
      "text/plain": [
       "<Item title:\"interval_1hour_All\" type:Feature Collection owner:nuscde_bdpt>"
      ]
     },
     "execution_count": 15,
     "metadata": {},
     "output_type": "execute_result"
    }
   ],
   "source": [
    "interval_data_search = gis.content.search('owner:' + USERNAME + ' AND title:interval_1hour_All')\n",
    "interval_data_item = interval_data_search[0]\n",
    "interval_data_item"
   ]
  },
  {
   "cell_type": "code",
   "execution_count": 16,
   "metadata": {},
   "outputs": [
    {
     "data": {
      "text/plain": [
       "<FeatureCollection>"
      ]
     },
     "execution_count": 16,
     "metadata": {},
     "output_type": "execute_result"
    }
   ],
   "source": [
    "interval_data_f_layer = interval_data_item.layers[0]\n",
    "interval_data_f_layer"
   ]
  },
  {
   "cell_type": "code",
   "execution_count": 22,
   "metadata": {},
   "outputs": [],
   "source": [
    "# interval_data_layer_collection = FeatureLayerCollection.fromitem(interval_data_item)\n",
    "# interval_data_layer_collection"
   ]
  },
  {
   "cell_type": "code",
   "execution_count": 17,
   "metadata": {},
   "outputs": [
    {
     "data": {
      "text/html": [
       "<div>\n",
       "<style scoped>\n",
       "    .dataframe tbody tr th:only-of-type {\n",
       "        vertical-align: middle;\n",
       "    }\n",
       "\n",
       "    .dataframe tbody tr th {\n",
       "        vertical-align: top;\n",
       "    }\n",
       "\n",
       "    .dataframe thead th {\n",
       "        text-align: right;\n",
       "    }\n",
       "</style>\n",
       "<table border=\"1\" class=\"dataframe\">\n",
       "  <thead>\n",
       "    <tr style=\"text-align: right;\">\n",
       "      <th></th>\n",
       "      <th>Station</th>\n",
       "      <th>Serial_number</th>\n",
       "      <th>Latitude</th>\n",
       "      <th>Longitude</th>\n",
       "      <th>Floor</th>\n",
       "      <th>Height</th>\n",
       "      <th>Location_description</th>\n",
       "      <th>Building_name</th>\n",
       "      <th>Timestamp</th>\n",
       "      <th>Wind_Speed</th>\n",
       "      <th>Temperature_PT100</th>\n",
       "      <th>Relative_Humidity</th>\n",
       "      <th>Solar_Radiation</th>\n",
       "      <th>PM1_0</th>\n",
       "      <th>PM2_5</th>\n",
       "      <th>PM10</th>\n",
       "      <th>__OBJECTID</th>\n",
       "      <th>OBJECTID</th>\n",
       "      <th>SHAPE</th>\n",
       "    </tr>\n",
       "  </thead>\n",
       "  <tbody>\n",
       "    <tr>\n",
       "      <th>0</th>\n",
       "      <td>#1</td>\n",
       "      <td>21004880</td>\n",
       "      <td>1.277144</td>\n",
       "      <td>103.838944</td>\n",
       "      <td>Ground</td>\n",
       "      <td>2.5m</td>\n",
       "      <td>lamppost 7/4, between BLK 3 and Blk 7 in Evert...</td>\n",
       "      <td>Everton park</td>\n",
       "      <td>2022/10/10 15:00:00</td>\n",
       "      <td>0.723333</td>\n",
       "      <td>28.236667</td>\n",
       "      <td>69.006667</td>\n",
       "      <td>137.066667</td>\n",
       "      <td>2.490000</td>\n",
       "      <td>3.566667</td>\n",
       "      <td>5.976667</td>\n",
       "      <td>0</td>\n",
       "      <td>1</td>\n",
       "      <td>{\"x\": 11559298.42, \"y\": 142182.84, \"spatialRef...</td>\n",
       "    </tr>\n",
       "    <tr>\n",
       "      <th>1</th>\n",
       "      <td>#1</td>\n",
       "      <td>21004880</td>\n",
       "      <td>1.277144</td>\n",
       "      <td>103.838944</td>\n",
       "      <td>Ground</td>\n",
       "      <td>2.5m</td>\n",
       "      <td>lamppost 7/4, between BLK 3 and Blk 7 in Evert...</td>\n",
       "      <td>Everton park</td>\n",
       "      <td>2022/10/10 16:00:00</td>\n",
       "      <td>0.626667</td>\n",
       "      <td>28.586667</td>\n",
       "      <td>67.600000</td>\n",
       "      <td>115.866667</td>\n",
       "      <td>3.900000</td>\n",
       "      <td>5.900000</td>\n",
       "      <td>9.820000</td>\n",
       "      <td>1</td>\n",
       "      <td>2</td>\n",
       "      <td>{\"x\": 11559298.42, \"y\": 142182.84, \"spatialRef...</td>\n",
       "    </tr>\n",
       "    <tr>\n",
       "      <th>2</th>\n",
       "      <td>#1</td>\n",
       "      <td>21004880</td>\n",
       "      <td>1.277144</td>\n",
       "      <td>103.838944</td>\n",
       "      <td>Ground</td>\n",
       "      <td>2.5m</td>\n",
       "      <td>lamppost 7/4, between BLK 3 and Blk 7 in Evert...</td>\n",
       "      <td>Everton park</td>\n",
       "      <td>2022/10/10 17:00:00</td>\n",
       "      <td>0.550000</td>\n",
       "      <td>28.153333</td>\n",
       "      <td>69.416667</td>\n",
       "      <td>8.800000</td>\n",
       "      <td>8.503333</td>\n",
       "      <td>13.073333</td>\n",
       "      <td>19.570000</td>\n",
       "      <td>2</td>\n",
       "      <td>3</td>\n",
       "      <td>{\"x\": 11559298.42, \"y\": 142182.84, \"spatialRef...</td>\n",
       "    </tr>\n",
       "    <tr>\n",
       "      <th>3</th>\n",
       "      <td>#1</td>\n",
       "      <td>21004880</td>\n",
       "      <td>1.277144</td>\n",
       "      <td>103.838944</td>\n",
       "      <td>Ground</td>\n",
       "      <td>2.5m</td>\n",
       "      <td>lamppost 7/4, between BLK 3 and Blk 7 in Evert...</td>\n",
       "      <td>Everton park</td>\n",
       "      <td>2022/10/10 18:00:00</td>\n",
       "      <td>0.556667</td>\n",
       "      <td>27.746667</td>\n",
       "      <td>71.790000</td>\n",
       "      <td>0.600000</td>\n",
       "      <td>5.510000</td>\n",
       "      <td>7.903333</td>\n",
       "      <td>13.123333</td>\n",
       "      <td>3</td>\n",
       "      <td>4</td>\n",
       "      <td>{\"x\": 11559298.42, \"y\": 142182.84, \"spatialRef...</td>\n",
       "    </tr>\n",
       "    <tr>\n",
       "      <th>4</th>\n",
       "      <td>#1</td>\n",
       "      <td>21004880</td>\n",
       "      <td>1.277144</td>\n",
       "      <td>103.838944</td>\n",
       "      <td>Ground</td>\n",
       "      <td>2.5m</td>\n",
       "      <td>lamppost 7/4, between BLK 3 and Blk 7 in Evert...</td>\n",
       "      <td>Everton park</td>\n",
       "      <td>2022/10/10 19:00:00</td>\n",
       "      <td>0.610000</td>\n",
       "      <td>27.706667</td>\n",
       "      <td>72.386667</td>\n",
       "      <td>0.633333</td>\n",
       "      <td>4.953333</td>\n",
       "      <td>6.950000</td>\n",
       "      <td>9.836667</td>\n",
       "      <td>4</td>\n",
       "      <td>5</td>\n",
       "      <td>{\"x\": 11559298.42, \"y\": 142182.84, \"spatialRef...</td>\n",
       "    </tr>\n",
       "  </tbody>\n",
       "</table>\n",
       "</div>"
      ],
      "text/plain": [
       "  Station  Serial_number  Latitude   Longitude   Floor Height  \\\n",
       "0      #1       21004880  1.277144  103.838944  Ground   2.5m   \n",
       "1      #1       21004880  1.277144  103.838944  Ground   2.5m   \n",
       "2      #1       21004880  1.277144  103.838944  Ground   2.5m   \n",
       "3      #1       21004880  1.277144  103.838944  Ground   2.5m   \n",
       "4      #1       21004880  1.277144  103.838944  Ground   2.5m   \n",
       "\n",
       "                                Location_description Building_name  \\\n",
       "0  lamppost 7/4, between BLK 3 and Blk 7 in Evert...  Everton park   \n",
       "1  lamppost 7/4, between BLK 3 and Blk 7 in Evert...  Everton park   \n",
       "2  lamppost 7/4, between BLK 3 and Blk 7 in Evert...  Everton park   \n",
       "3  lamppost 7/4, between BLK 3 and Blk 7 in Evert...  Everton park   \n",
       "4  lamppost 7/4, between BLK 3 and Blk 7 in Evert...  Everton park   \n",
       "\n",
       "             Timestamp  Wind_Speed  Temperature_PT100  Relative_Humidity  \\\n",
       "0  2022/10/10 15:00:00    0.723333          28.236667          69.006667   \n",
       "1  2022/10/10 16:00:00    0.626667          28.586667          67.600000   \n",
       "2  2022/10/10 17:00:00    0.550000          28.153333          69.416667   \n",
       "3  2022/10/10 18:00:00    0.556667          27.746667          71.790000   \n",
       "4  2022/10/10 19:00:00    0.610000          27.706667          72.386667   \n",
       "\n",
       "   Solar_Radiation     PM1_0      PM2_5       PM10  __OBJECTID  OBJECTID  \\\n",
       "0       137.066667  2.490000   3.566667   5.976667           0         1   \n",
       "1       115.866667  3.900000   5.900000   9.820000           1         2   \n",
       "2         8.800000  8.503333  13.073333  19.570000           2         3   \n",
       "3         0.600000  5.510000   7.903333  13.123333           3         4   \n",
       "4         0.633333  4.953333   6.950000   9.836667           4         5   \n",
       "\n",
       "                                               SHAPE  \n",
       "0  {\"x\": 11559298.42, \"y\": 142182.84, \"spatialRef...  \n",
       "1  {\"x\": 11559298.42, \"y\": 142182.84, \"spatialRef...  \n",
       "2  {\"x\": 11559298.42, \"y\": 142182.84, \"spatialRef...  \n",
       "3  {\"x\": 11559298.42, \"y\": 142182.84, \"spatialRef...  \n",
       "4  {\"x\": 11559298.42, \"y\": 142182.84, \"spatialRef...  "
      ]
     },
     "execution_count": 17,
     "metadata": {},
     "output_type": "execute_result"
    }
   ],
   "source": [
    "interval_data_f_set = interval_data_f_layer.query() #querying without any conditions returns all the features\n",
    "interval_data_f_set.sdf.head()"
   ]
  },
  {
   "cell_type": "code",
   "execution_count": 20,
   "metadata": {},
   "outputs": [
    {
     "data": {
      "text/plain": [
       "3192"
      ]
     },
     "execution_count": 20,
     "metadata": {},
     "output_type": "execute_result"
    }
   ],
   "source": [
    "features_to_be_removed = interval_data_f_set.sdf.to_dict('records')\n",
    "features_to_be_removed.__len__()\n"
   ]
  },
  {
   "cell_type": "code",
   "execution_count": 18,
   "metadata": {},
   "outputs": [
    {
     "data": {
      "text/plain": [
       "3211"
      ]
     },
     "execution_count": 18,
     "metadata": {},
     "output_type": "execute_result"
    }
   ],
   "source": [
    "features_to_be_added = csv_data.to_dict('records')\n",
    "features_to_be_added.__len__()\n"
   ]
  },
  {
   "cell_type": "code",
   "execution_count": null,
   "metadata": {},
   "outputs": [],
   "source": [
    "interval_data_f_layer.edit_features(adds = features_to_be_added)"
   ]
  }
 ],
 "metadata": {
  "kernelspec": {
   "display_name": "Python 3.9.7 ('base')",
   "language": "python",
   "name": "python3"
  },
  "language_info": {
   "codemirror_mode": {
    "name": "ipython",
    "version": 3
   },
   "file_extension": ".py",
   "mimetype": "text/x-python",
   "name": "python",
   "nbconvert_exporter": "python",
   "pygments_lexer": "ipython3",
   "version": "3.9.13"
  },
  "orig_nbformat": 4,
  "vscode": {
   "interpreter": {
    "hash": "7e255eef08119389169ba1759235f617d02a59eb4b9dc753dadbe2469570960e"
   }
  }
 },
 "nbformat": 4,
 "nbformat_minor": 2
}
